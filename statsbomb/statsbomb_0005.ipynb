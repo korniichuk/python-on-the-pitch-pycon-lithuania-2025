{
 "cells": [
  {
   "cell_type": "code",
   "execution_count": 1,
   "id": "eb6f93ba-2ccd-413b-a648-2b4a6fadbc90",
   "metadata": {},
   "outputs": [],
   "source": [
    "import pandas as pd"
   ]
  },
  {
   "cell_type": "code",
   "execution_count": 2,
   "id": "614df8f2-b173-4a74-a91c-f6873052fab6",
   "metadata": {},
   "outputs": [],
   "source": [
    "events = pd.read_pickle(\"events.pkl\")"
   ]
  },
  {
   "cell_type": "markdown",
   "id": "8e81159a-57b3-4df3-afa3-dd4cd0172743",
   "metadata": {},
   "source": [
    "#### Event type frequency"
   ]
  },
  {
   "cell_type": "code",
   "execution_count": 3,
   "id": "fb41e0e2-577a-43d0-bfee-30aa3f503170",
   "metadata": {},
   "outputs": [
    {
     "data": {
      "text/plain": [
       "type.name\n",
       "Pass             1140\n",
       "Ball Receipt*    1062\n",
       "Carry             868\n",
       "Pressure          265\n",
       "Ball Recovery     105\n",
       "Name: count, dtype: int64"
      ]
     },
     "execution_count": 3,
     "metadata": {},
     "output_type": "execute_result"
    }
   ],
   "source": [
    "events[\"type.name\"].value_counts().head(5)"
   ]
  },
  {
   "cell_type": "markdown",
   "id": "df5ae74b-eb41-4f31-a42f-2afc24b4b1be",
   "metadata": {},
   "source": [
    "#### Event type frequency (Germany)"
   ]
  },
  {
   "cell_type": "code",
   "execution_count": 4,
   "id": "4c11a740-167f-4d77-9638-321a19031b1d",
   "metadata": {},
   "outputs": [
    {
     "data": {
      "text/plain": [
       "type.name\n",
       "Pass             776\n",
       "Ball Receipt*    733\n",
       "Carry            606\n",
       "Pressure         128\n",
       "Ball Recovery     66\n",
       "Name: count, dtype: int64"
      ]
     },
     "execution_count": 4,
     "metadata": {},
     "output_type": "execute_result"
    }
   ],
   "source": [
    "events_de = events.loc[events[\"possession_team.name\"] == \"Germany\"]\n",
    "events_de[\"type.name\"].value_counts().head(5)"
   ]
  },
  {
   "cell_type": "code",
   "execution_count": 5,
   "id": "cb35aba5-8534-4acd-bdcc-20bcc640fe1b",
   "metadata": {},
   "outputs": [],
   "source": [
    "events_de.to_pickle(\"events_de.pkl\")"
   ]
  }
 ],
 "metadata": {
  "kernelspec": {
   "display_name": "Python 3 (ipykernel)",
   "language": "python",
   "name": "python3"
  },
  "language_info": {
   "codemirror_mode": {
    "name": "ipython",
    "version": 3
   },
   "file_extension": ".py",
   "mimetype": "text/x-python",
   "name": "python",
   "nbconvert_exporter": "python",
   "pygments_lexer": "ipython3",
   "version": "3.11.6"
  }
 },
 "nbformat": 4,
 "nbformat_minor": 5
}
