{
 "cells": [
  {
   "cell_type": "code",
   "execution_count": 1,
   "id": "a348ef4d-9185-438f-bd0a-997be587a05d",
   "metadata": {},
   "outputs": [],
   "source": [
    "import pandas as pd\n",
    "import requests"
   ]
  },
  {
   "cell_type": "markdown",
   "id": "509c8a7f-8b8c-4c84-bb5d-d5b202ddda4b",
   "metadata": {},
   "source": [
    "#### FIFA World Cup 2022"
   ]
  },
  {
   "cell_type": "code",
   "execution_count": 2,
   "id": "a5aa9163-5b0a-4165-8852-115777380e60",
   "metadata": {},
   "outputs": [],
   "source": [
    "competition_id = 43\n",
    "season_id = 106"
   ]
  },
  {
   "cell_type": "code",
   "execution_count": 3,
   "id": "e3b11466-ac23-4316-921d-9950b04f90aa",
   "metadata": {},
   "outputs": [
    {
     "data": {
      "text/html": [
       "<div>\n",
       "<style scoped>\n",
       "    .dataframe tbody tr th:only-of-type {\n",
       "        vertical-align: middle;\n",
       "    }\n",
       "\n",
       "    .dataframe tbody tr th {\n",
       "        vertical-align: top;\n",
       "    }\n",
       "\n",
       "    .dataframe thead th {\n",
       "        text-align: right;\n",
       "    }\n",
       "</style>\n",
       "<table border=\"1\" class=\"dataframe\">\n",
       "  <thead>\n",
       "    <tr style=\"text-align: right;\">\n",
       "      <th></th>\n",
       "      <th>match_id</th>\n",
       "      <th>match_date</th>\n",
       "      <th>kick_off</th>\n",
       "      <th>home_score</th>\n",
       "      <th>away_score</th>\n",
       "      <th>match_status</th>\n",
       "      <th>match_status_360</th>\n",
       "      <th>last_updated</th>\n",
       "      <th>last_updated_360</th>\n",
       "      <th>match_week</th>\n",
       "      <th>...</th>\n",
       "      <th>competition_stage.id</th>\n",
       "      <th>competition_stage.name</th>\n",
       "      <th>stadium.id</th>\n",
       "      <th>stadium.name</th>\n",
       "      <th>stadium.country.id</th>\n",
       "      <th>stadium.country.name</th>\n",
       "      <th>referee.id</th>\n",
       "      <th>referee.name</th>\n",
       "      <th>referee.country.id</th>\n",
       "      <th>referee.country.name</th>\n",
       "    </tr>\n",
       "  </thead>\n",
       "  <tbody>\n",
       "    <tr>\n",
       "      <th>0</th>\n",
       "      <td>3857256</td>\n",
       "      <td>2022-12-02</td>\n",
       "      <td>21:00:00.000</td>\n",
       "      <td>2</td>\n",
       "      <td>3</td>\n",
       "      <td>available</td>\n",
       "      <td>available</td>\n",
       "      <td>2023-02-17T23:45:15.306706</td>\n",
       "      <td>2023-04-26T23:49:58.956186</td>\n",
       "      <td>3</td>\n",
       "      <td>...</td>\n",
       "      <td>10</td>\n",
       "      <td>Group Stage</td>\n",
       "      <td>1001115</td>\n",
       "      <td>Stadium 974</td>\n",
       "      <td>185</td>\n",
       "      <td>Qatar</td>\n",
       "      <td>1121.0</td>\n",
       "      <td>Fernando Andrés Rapallini</td>\n",
       "      <td>11.0</td>\n",
       "      <td>Argentina</td>\n",
       "    </tr>\n",
       "    <tr>\n",
       "      <th>1</th>\n",
       "      <td>3869151</td>\n",
       "      <td>2022-12-03</td>\n",
       "      <td>21:00:00.000</td>\n",
       "      <td>2</td>\n",
       "      <td>1</td>\n",
       "      <td>available</td>\n",
       "      <td>available</td>\n",
       "      <td>2023-07-30T07:46:05.382784</td>\n",
       "      <td>2023-07-30T07:48:51.865595</td>\n",
       "      <td>4</td>\n",
       "      <td>...</td>\n",
       "      <td>33</td>\n",
       "      <td>Round of 16</td>\n",
       "      <td>1000793</td>\n",
       "      <td>Ahmad bin Ali Stadium</td>\n",
       "      <td>185</td>\n",
       "      <td>Qatar</td>\n",
       "      <td>367.0</td>\n",
       "      <td>Szymon Marciniak</td>\n",
       "      <td>182.0</td>\n",
       "      <td>Poland</td>\n",
       "    </tr>\n",
       "  </tbody>\n",
       "</table>\n",
       "<p>2 rows × 42 columns</p>\n",
       "</div>"
      ],
      "text/plain": [
       "   match_id  match_date      kick_off  home_score  away_score match_status  \\\n",
       "0   3857256  2022-12-02  21:00:00.000           2           3    available   \n",
       "1   3869151  2022-12-03  21:00:00.000           2           1    available   \n",
       "\n",
       "  match_status_360                last_updated            last_updated_360  \\\n",
       "0        available  2023-02-17T23:45:15.306706  2023-04-26T23:49:58.956186   \n",
       "1        available  2023-07-30T07:46:05.382784  2023-07-30T07:48:51.865595   \n",
       "\n",
       "   match_week  ...  competition_stage.id competition_stage.name stadium.id  \\\n",
       "0           3  ...                    10            Group Stage    1001115   \n",
       "1           4  ...                    33            Round of 16    1000793   \n",
       "\n",
       "            stadium.name stadium.country.id  stadium.country.name referee.id  \\\n",
       "0            Stadium 974                185                 Qatar     1121.0   \n",
       "1  Ahmad bin Ali Stadium                185                 Qatar      367.0   \n",
       "\n",
       "                referee.name referee.country.id  referee.country.name  \n",
       "0  Fernando Andrés Rapallini               11.0             Argentina  \n",
       "1           Szymon Marciniak              182.0                Poland  \n",
       "\n",
       "[2 rows x 42 columns]"
      ]
     },
     "execution_count": 3,
     "metadata": {},
     "output_type": "execute_result"
    }
   ],
   "source": [
    "url = f\"https://raw.githubusercontent.com/statsbomb/open-data/refs/heads/master/data/matches/{competition_id}/{season_id}.json\"\n",
    "data = requests.get(url).json()\n",
    "matches = pd.json_normalize(data)\n",
    "matches.head(2)"
   ]
  },
  {
   "cell_type": "code",
   "execution_count": 4,
   "id": "494f793b-ac76-4317-aeed-466a11b8b0ec",
   "metadata": {},
   "outputs": [
    {
     "data": {
      "text/plain": [
       "64"
      ]
     },
     "execution_count": 4,
     "metadata": {},
     "output_type": "execute_result"
    }
   ],
   "source": [
    "len(matches)"
   ]
  },
  {
   "cell_type": "code",
   "execution_count": 5,
   "id": "f8a334f9-a3d3-45c5-8a52-c71702b3854f",
   "metadata": {},
   "outputs": [
    {
     "name": "stdout",
     "output_type": "stream",
     "text": [
      "Serbia Switzerland 2:3 (3857256)\n",
      "Argentina Australia 2:1 (3869151)\n"
     ]
    }
   ],
   "source": [
    "for _, row in matches.head(2).iterrows():\n",
    "    print(\n",
    "        f\"{row['home_team.home_team_name']} {row['away_team.away_team_name']} \"\n",
    "        f\"{row['home_score']}:{row['away_score']} ({row['match_id']})\"\n",
    "    )"
   ]
  }
 ],
 "metadata": {
  "kernelspec": {
   "display_name": "Python 3 (ipykernel)",
   "language": "python",
   "name": "python3"
  },
  "language_info": {
   "codemirror_mode": {
    "name": "ipython",
    "version": 3
   },
   "file_extension": ".py",
   "mimetype": "text/x-python",
   "name": "python",
   "nbconvert_exporter": "python",
   "pygments_lexer": "ipython3",
   "version": "3.11.6"
  }
 },
 "nbformat": 4,
 "nbformat_minor": 5
}
