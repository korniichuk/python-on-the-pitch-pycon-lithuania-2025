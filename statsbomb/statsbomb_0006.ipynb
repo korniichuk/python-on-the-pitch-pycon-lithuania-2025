{
 "cells": [
  {
   "cell_type": "code",
   "execution_count": 1,
   "id": "c18ca054-914c-452d-abaa-fa4974c9dddb",
   "metadata": {},
   "outputs": [],
   "source": [
    "import pandas as pd"
   ]
  },
  {
   "cell_type": "code",
   "execution_count": 2,
   "id": "90b98e2a-0d3e-4588-a498-fa08f7aea641",
   "metadata": {},
   "outputs": [],
   "source": [
    "events_de = pd.read_pickle(\"events_de.pkl\")"
   ]
  },
  {
   "cell_type": "markdown",
   "id": "6743278b-cbbb-42e3-9d76-4930618b8283",
   "metadata": {},
   "source": [
    "#### Passes (Germany)"
   ]
  },
  {
   "cell_type": "code",
   "execution_count": 3,
   "id": "29dea7ca-4529-490f-ba20-53e4e93e098e",
   "metadata": {
    "scrolled": true
   },
   "outputs": [
    {
     "data": {
      "text/html": [
       "<div>\n",
       "<style scoped>\n",
       "    .dataframe tbody tr th:only-of-type {\n",
       "        vertical-align: middle;\n",
       "    }\n",
       "\n",
       "    .dataframe tbody tr th {\n",
       "        vertical-align: top;\n",
       "    }\n",
       "\n",
       "    .dataframe thead th {\n",
       "        text-align: right;\n",
       "    }\n",
       "</style>\n",
       "<table border=\"1\" class=\"dataframe\">\n",
       "  <thead>\n",
       "    <tr style=\"text-align: right;\">\n",
       "      <th></th>\n",
       "      <th>player.name</th>\n",
       "      <th>pass.recipient.name</th>\n",
       "      <th>location</th>\n",
       "      <th>pass.end_location</th>\n",
       "    </tr>\n",
       "  </thead>\n",
       "  <tbody>\n",
       "    <tr>\n",
       "      <th>4</th>\n",
       "      <td>Thomas Müller</td>\n",
       "      <td>Antonio Rüdiger</td>\n",
       "      <td>[61.0, 40.1]</td>\n",
       "      <td>[40.1, 36.2]</td>\n",
       "    </tr>\n",
       "    <tr>\n",
       "      <th>7</th>\n",
       "      <td>Antonio Rüdiger</td>\n",
       "      <td>Joshua Kimmich</td>\n",
       "      <td>[39.8, 36.4]</td>\n",
       "      <td>[40.6, 58.5]</td>\n",
       "    </tr>\n",
       "    <tr>\n",
       "      <th>10</th>\n",
       "      <td>Joshua Kimmich</td>\n",
       "      <td>Thomas Müller</td>\n",
       "      <td>[47.2, 62.2]</td>\n",
       "      <td>[89.9, 45.4]</td>\n",
       "    </tr>\n",
       "  </tbody>\n",
       "</table>\n",
       "</div>"
      ],
      "text/plain": [
       "        player.name pass.recipient.name      location pass.end_location\n",
       "4     Thomas Müller     Antonio Rüdiger  [61.0, 40.1]      [40.1, 36.2]\n",
       "7   Antonio Rüdiger      Joshua Kimmich  [39.8, 36.4]      [40.6, 58.5]\n",
       "10   Joshua Kimmich       Thomas Müller  [47.2, 62.2]      [89.9, 45.4]"
      ]
     },
     "execution_count": 3,
     "metadata": {},
     "output_type": "execute_result"
    }
   ],
   "source": [
    "passes_de = events_de.loc[events_de['type.name'] == 'Pass']\n",
    "passes_de[[\"player.name\", \"pass.recipient.name\", \"location\", \"pass.end_location\"]].head(3)"
   ]
  },
  {
   "cell_type": "markdown",
   "id": "d65efe35-34c5-431f-b564-5e96c0211055",
   "metadata": {},
   "source": [
    "#### Most frequent passing combinations between players"
   ]
  },
  {
   "cell_type": "code",
   "execution_count": 4,
   "id": "ef3caa93-a185-4af2-865b-adc52979b595",
   "metadata": {},
   "outputs": [
    {
     "data": {
      "text/plain": [
       "player.name      pass.recipient.name\n",
       "Joshua Kimmich   Niklas Süle            29\n",
       "Niklas Süle      Joshua Kimmich         26\n",
       "                 Antonio Rüdiger        22\n",
       "Antonio Rüdiger  Niklas Süle            20\n",
       "Niklas Süle      İlkay Gündoğan         18\n",
       "Antonio Rüdiger  David Raum             16\n",
       "İlkay Gündoğan   Niklas Süle            15\n",
       "David Raum       Antonio Rüdiger        15\n",
       "Joshua Kimmich   Lukas Klostermann      14\n",
       "Antonio Rüdiger  Joshua Kimmich         14\n",
       "Name: count, dtype: int64"
      ]
     },
     "execution_count": 4,
     "metadata": {},
     "output_type": "execute_result"
    }
   ],
   "source": [
    "passes_de[[\"player.name\", \"pass.recipient.name\"]].value_counts().head(10)"
   ]
  }
 ],
 "metadata": {
  "kernelspec": {
   "display_name": "Python 3 (ipykernel)",
   "language": "python",
   "name": "python3"
  },
  "language_info": {
   "codemirror_mode": {
    "name": "ipython",
    "version": 3
   },
   "file_extension": ".py",
   "mimetype": "text/x-python",
   "name": "python",
   "nbconvert_exporter": "python",
   "pygments_lexer": "ipython3",
   "version": "3.11.6"
  }
 },
 "nbformat": 4,
 "nbformat_minor": 5
}
