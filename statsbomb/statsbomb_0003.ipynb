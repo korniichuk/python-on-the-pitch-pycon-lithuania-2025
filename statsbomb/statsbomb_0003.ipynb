{
 "cells": [
  {
   "cell_type": "code",
   "execution_count": 1,
   "id": "b89da56e-cc20-4feb-84e8-c6f3b1478b30",
   "metadata": {},
   "outputs": [],
   "source": [
    "import pandas as pd\n",
    "import requests"
   ]
  },
  {
   "cell_type": "markdown",
   "id": "7878e98d-cfc3-42c6-b3b5-de2448727a8a",
   "metadata": {},
   "source": [
    "#### FIFA World Cup 2022"
   ]
  },
  {
   "cell_type": "code",
   "execution_count": 2,
   "id": "4aaa9345-dd0b-4a74-8663-c721099b80c5",
   "metadata": {},
   "outputs": [],
   "source": [
    "competition_id = 43\n",
    "season_id = 106"
   ]
  },
  {
   "cell_type": "code",
   "execution_count": 3,
   "id": "f568dd05-095c-4177-9bec-4aeb20624caf",
   "metadata": {},
   "outputs": [],
   "source": [
    "url = f\"https://raw.githubusercontent.com/statsbomb/open-data/refs/heads/master/data/matches/{competition_id}/{season_id}.json\"\n",
    "data = requests.get(url).json()\n",
    "matches = pd.json_normalize(data)"
   ]
  },
  {
   "cell_type": "markdown",
   "id": "e4e9a13e-5f23-45f8-9982-f7825ebe44ae",
   "metadata": {},
   "source": [
    "#### Germany"
   ]
  },
  {
   "cell_type": "code",
   "execution_count": 4,
   "id": "c4591c57-73bb-43c0-aebe-3a76422b9ab3",
   "metadata": {},
   "outputs": [
    {
     "name": "stdout",
     "output_type": "stream",
     "text": [
      "Spain Germany 1:1 (3857263)\n",
      "Germany Japan 1:2 (3857284)\n",
      "Costa Rica Germany 2:4 (3857292)\n"
     ]
    }
   ],
   "source": [
    "team = \"Germany\"\n",
    "\n",
    "filtered = matches[(matches[\"home_team.home_team_name\"] == team) | (matches[\"away_team.away_team_name\"] == team)]\n",
    "\n",
    "for _, row in filtered.iterrows():\n",
    "    print(\n",
    "        f\"{row['home_team.home_team_name']} {row['away_team.away_team_name']} \"\n",
    "        f\"{row['home_score']}:{row['away_score']} ({row['match_id']})\"\n",
    "    )"
   ]
  }
 ],
 "metadata": {
  "kernelspec": {
   "display_name": "Python 3 (ipykernel)",
   "language": "python",
   "name": "python3"
  },
  "language_info": {
   "codemirror_mode": {
    "name": "ipython",
    "version": 3
   },
   "file_extension": ".py",
   "mimetype": "text/x-python",
   "name": "python",
   "nbconvert_exporter": "python",
   "pygments_lexer": "ipython3",
   "version": "3.11.6"
  }
 },
 "nbformat": 4,
 "nbformat_minor": 5
}
