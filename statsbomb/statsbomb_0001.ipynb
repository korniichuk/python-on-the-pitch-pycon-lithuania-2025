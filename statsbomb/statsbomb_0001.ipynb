{
 "cells": [
  {
   "cell_type": "code",
   "execution_count": 1,
   "id": "46ab407a-78c8-40f8-8535-543ca8e16db6",
   "metadata": {},
   "outputs": [],
   "source": [
    "import pandas as pd\n",
    "import requests"
   ]
  },
  {
   "cell_type": "code",
   "execution_count": 2,
   "id": "8e0ae325-2339-4eac-b03e-030b51899081",
   "metadata": {},
   "outputs": [],
   "source": [
    "pd.set_option(\"display.max.columns\", None)\n",
    "pd.set_option(\"display.max.rows\", None)"
   ]
  },
  {
   "cell_type": "markdown",
   "id": "6d21d90e-3d9b-433f-92a6-3dd698a7ba18",
   "metadata": {},
   "source": [
    "#### Load `competitions.json` file from Hudl Statsbomb GitHub and transform to Pandas DataFrame"
   ]
  },
  {
   "cell_type": "code",
   "execution_count": 3,
   "id": "c5d52c66-09dd-46d8-a18e-d3a3db65bd83",
   "metadata": {},
   "outputs": [
    {
     "data": {
      "text/html": [
       "<div>\n",
       "<style scoped>\n",
       "    .dataframe tbody tr th:only-of-type {\n",
       "        vertical-align: middle;\n",
       "    }\n",
       "\n",
       "    .dataframe tbody tr th {\n",
       "        vertical-align: top;\n",
       "    }\n",
       "\n",
       "    .dataframe thead th {\n",
       "        text-align: right;\n",
       "    }\n",
       "</style>\n",
       "<table border=\"1\" class=\"dataframe\">\n",
       "  <thead>\n",
       "    <tr style=\"text-align: right;\">\n",
       "      <th></th>\n",
       "      <th>competition_id</th>\n",
       "      <th>season_id</th>\n",
       "      <th>country_name</th>\n",
       "      <th>competition_name</th>\n",
       "      <th>competition_gender</th>\n",
       "      <th>competition_youth</th>\n",
       "      <th>competition_international</th>\n",
       "      <th>season_name</th>\n",
       "      <th>match_updated</th>\n",
       "      <th>match_updated_360</th>\n",
       "      <th>match_available_360</th>\n",
       "      <th>match_available</th>\n",
       "    </tr>\n",
       "  </thead>\n",
       "  <tbody>\n",
       "    <tr>\n",
       "      <th>0</th>\n",
       "      <td>9</td>\n",
       "      <td>281</td>\n",
       "      <td>Germany</td>\n",
       "      <td>1. Bundesliga</td>\n",
       "      <td>male</td>\n",
       "      <td>False</td>\n",
       "      <td>False</td>\n",
       "      <td>2023/2024</td>\n",
       "      <td>2024-07-15T14:15:54.671676</td>\n",
       "      <td>2024-07-15T14:17:00.877356</td>\n",
       "      <td>2024-07-15T14:17:00.877356</td>\n",
       "      <td>2024-07-15T14:15:54.671676</td>\n",
       "    </tr>\n",
       "    <tr>\n",
       "      <th>1</th>\n",
       "      <td>9</td>\n",
       "      <td>27</td>\n",
       "      <td>Germany</td>\n",
       "      <td>1. Bundesliga</td>\n",
       "      <td>male</td>\n",
       "      <td>False</td>\n",
       "      <td>False</td>\n",
       "      <td>2015/2016</td>\n",
       "      <td>2024-05-19T11:11:14.192381</td>\n",
       "      <td>None</td>\n",
       "      <td>None</td>\n",
       "      <td>2024-05-19T11:11:14.192381</td>\n",
       "    </tr>\n",
       "    <tr>\n",
       "      <th>2</th>\n",
       "      <td>1267</td>\n",
       "      <td>107</td>\n",
       "      <td>Africa</td>\n",
       "      <td>African Cup of Nations</td>\n",
       "      <td>male</td>\n",
       "      <td>False</td>\n",
       "      <td>True</td>\n",
       "      <td>2023</td>\n",
       "      <td>2024-06-13T07:51:02.452825</td>\n",
       "      <td>None</td>\n",
       "      <td>None</td>\n",
       "      <td>2024-06-13T07:51:02.452825</td>\n",
       "    </tr>\n",
       "  </tbody>\n",
       "</table>\n",
       "</div>"
      ],
      "text/plain": [
       "   competition_id  season_id country_name        competition_name  \\\n",
       "0               9        281      Germany           1. Bundesliga   \n",
       "1               9         27      Germany           1. Bundesliga   \n",
       "2            1267        107       Africa  African Cup of Nations   \n",
       "\n",
       "  competition_gender  competition_youth  competition_international  \\\n",
       "0               male              False                      False   \n",
       "1               male              False                      False   \n",
       "2               male              False                       True   \n",
       "\n",
       "  season_name               match_updated           match_updated_360  \\\n",
       "0   2023/2024  2024-07-15T14:15:54.671676  2024-07-15T14:17:00.877356   \n",
       "1   2015/2016  2024-05-19T11:11:14.192381                        None   \n",
       "2        2023  2024-06-13T07:51:02.452825                        None   \n",
       "\n",
       "          match_available_360             match_available  \n",
       "0  2024-07-15T14:17:00.877356  2024-07-15T14:15:54.671676  \n",
       "1                        None  2024-05-19T11:11:14.192381  \n",
       "2                        None  2024-06-13T07:51:02.452825  "
      ]
     },
     "execution_count": 3,
     "metadata": {},
     "output_type": "execute_result"
    }
   ],
   "source": [
    "url = \"https://raw.githubusercontent.com/statsbomb/open-data/refs/heads/master/data/competitions.json\"\n",
    "data = requests.get(url).json()\n",
    "competitions = pd.json_normalize(data)\n",
    "competitions.head(3)"
   ]
  },
  {
   "cell_type": "markdown",
   "id": "de05c349-65c7-46f6-af64-5df8524314f0",
   "metadata": {},
   "source": [
    "#### Competitions with `season_name`, `competition_id`, and `season_id`"
   ]
  },
  {
   "cell_type": "code",
   "execution_count": 4,
   "id": "8f402f66-835d-49fe-ab6e-050e9f11c6c0",
   "metadata": {},
   "outputs": [
    {
     "data": {
      "text/html": [
       "<div>\n",
       "<style scoped>\n",
       "    .dataframe tbody tr th:only-of-type {\n",
       "        vertical-align: middle;\n",
       "    }\n",
       "\n",
       "    .dataframe tbody tr th {\n",
       "        vertical-align: top;\n",
       "    }\n",
       "\n",
       "    .dataframe thead th {\n",
       "        text-align: right;\n",
       "    }\n",
       "</style>\n",
       "<table border=\"1\" class=\"dataframe\">\n",
       "  <thead>\n",
       "    <tr style=\"text-align: right;\">\n",
       "      <th></th>\n",
       "      <th>competition_name</th>\n",
       "      <th>season_name</th>\n",
       "      <th>competition_id</th>\n",
       "      <th>season_id</th>\n",
       "    </tr>\n",
       "  </thead>\n",
       "  <tbody>\n",
       "    <tr>\n",
       "      <th>0</th>\n",
       "      <td>1. Bundesliga</td>\n",
       "      <td>2023/2024</td>\n",
       "      <td>9</td>\n",
       "      <td>281</td>\n",
       "    </tr>\n",
       "    <tr>\n",
       "      <th>1</th>\n",
       "      <td>1. Bundesliga</td>\n",
       "      <td>2015/2016</td>\n",
       "      <td>9</td>\n",
       "      <td>27</td>\n",
       "    </tr>\n",
       "    <tr>\n",
       "      <th>2</th>\n",
       "      <td>African Cup of Nations</td>\n",
       "      <td>2023</td>\n",
       "      <td>1267</td>\n",
       "      <td>107</td>\n",
       "    </tr>\n",
       "  </tbody>\n",
       "</table>\n",
       "</div>"
      ],
      "text/plain": [
       "         competition_name season_name  competition_id  season_id\n",
       "0           1. Bundesliga   2023/2024               9        281\n",
       "1           1. Bundesliga   2015/2016               9         27\n",
       "2  African Cup of Nations        2023            1267        107"
      ]
     },
     "execution_count": 4,
     "metadata": {},
     "output_type": "execute_result"
    }
   ],
   "source": [
    "competitions[[\"competition_name\", \"season_name\", \"competition_id\", \"season_id\"]].head(3)"
   ]
  }
 ],
 "metadata": {
  "kernelspec": {
   "display_name": "Python 3 (ipykernel)",
   "language": "python",
   "name": "python3"
  },
  "language_info": {
   "codemirror_mode": {
    "name": "ipython",
    "version": 3
   },
   "file_extension": ".py",
   "mimetype": "text/x-python",
   "name": "python",
   "nbconvert_exporter": "python",
   "pygments_lexer": "ipython3",
   "version": "3.11.6"
  }
 },
 "nbformat": 4,
 "nbformat_minor": 5
}
