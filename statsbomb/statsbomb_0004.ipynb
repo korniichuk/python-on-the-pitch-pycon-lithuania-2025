{
 "cells": [
  {
   "cell_type": "code",
   "execution_count": 1,
   "id": "2b28e247-c32c-42de-bb67-28ade0266dca",
   "metadata": {},
   "outputs": [],
   "source": [
    "import pandas as pd\n",
    "import requests"
   ]
  },
  {
   "cell_type": "markdown",
   "id": "92e412e0-47ae-4910-a224-dd847f0abb59",
   "metadata": {},
   "source": [
    "#### Costa Rica 2:4 Germany "
   ]
  },
  {
   "cell_type": "code",
   "execution_count": 2,
   "id": "258d2d38-7ab5-46e4-a698-525622f59ed2",
   "metadata": {},
   "outputs": [],
   "source": [
    "match_id = 3857292"
   ]
  },
  {
   "cell_type": "code",
   "execution_count": 3,
   "id": "0944eb60-4122-445e-8b32-825c0e4378ff",
   "metadata": {},
   "outputs": [],
   "source": [
    "url = f\"https://raw.githubusercontent.com/statsbomb/open-data/refs/heads/master/data/events/{match_id}.json\"\n",
    "data = requests.get(url).json()\n",
    "events = pd.json_normalize(data)"
   ]
  },
  {
   "cell_type": "code",
   "execution_count": 4,
   "id": "570b1262-b423-4d48-92ef-570b25bc5c9a",
   "metadata": {},
   "outputs": [
    {
     "data": {
      "text/plain": [
       "3869"
      ]
     },
     "execution_count": 4,
     "metadata": {},
     "output_type": "execute_result"
    }
   ],
   "source": [
    "len(events)"
   ]
  },
  {
   "cell_type": "code",
   "execution_count": 5,
   "id": "fcb0449b-92dc-4d97-9582-b0d4f5251c91",
   "metadata": {},
   "outputs": [
    {
     "data": {
      "text/html": [
       "<div>\n",
       "<style scoped>\n",
       "    .dataframe tbody tr th:only-of-type {\n",
       "        vertical-align: middle;\n",
       "    }\n",
       "\n",
       "    .dataframe tbody tr th {\n",
       "        vertical-align: top;\n",
       "    }\n",
       "\n",
       "    .dataframe thead th {\n",
       "        text-align: right;\n",
       "    }\n",
       "</style>\n",
       "<table border=\"1\" class=\"dataframe\">\n",
       "  <thead>\n",
       "    <tr style=\"text-align: right;\">\n",
       "      <th></th>\n",
       "      <th>id</th>\n",
       "      <th>index</th>\n",
       "      <th>period</th>\n",
       "      <th>timestamp</th>\n",
       "      <th>minute</th>\n",
       "      <th>second</th>\n",
       "      <th>possession</th>\n",
       "      <th>duration</th>\n",
       "      <th>type.id</th>\n",
       "      <th>type.name</th>\n",
       "      <th>...</th>\n",
       "      <th>substitution.outcome.name</th>\n",
       "      <th>substitution.replacement.id</th>\n",
       "      <th>substitution.replacement.name</th>\n",
       "      <th>foul_committed.card.id</th>\n",
       "      <th>foul_committed.card.name</th>\n",
       "      <th>foul_committed.advantage</th>\n",
       "      <th>foul_won.advantage</th>\n",
       "      <th>50_50.outcome.id</th>\n",
       "      <th>50_50.outcome.name</th>\n",
       "      <th>shot.deflected</th>\n",
       "    </tr>\n",
       "  </thead>\n",
       "  <tbody>\n",
       "    <tr>\n",
       "      <th>0</th>\n",
       "      <td>2194e9dd-089b-44f8-a5c7-60436a00f0f9</td>\n",
       "      <td>1</td>\n",
       "      <td>1</td>\n",
       "      <td>00:00:00.000</td>\n",
       "      <td>0</td>\n",
       "      <td>0</td>\n",
       "      <td>1</td>\n",
       "      <td>0.0</td>\n",
       "      <td>35</td>\n",
       "      <td>Starting XI</td>\n",
       "      <td>...</td>\n",
       "      <td>NaN</td>\n",
       "      <td>NaN</td>\n",
       "      <td>NaN</td>\n",
       "      <td>NaN</td>\n",
       "      <td>NaN</td>\n",
       "      <td>NaN</td>\n",
       "      <td>NaN</td>\n",
       "      <td>NaN</td>\n",
       "      <td>NaN</td>\n",
       "      <td>NaN</td>\n",
       "    </tr>\n",
       "    <tr>\n",
       "      <th>1</th>\n",
       "      <td>1247d52e-3c53-4106-bcf9-36c14a0c352d</td>\n",
       "      <td>2</td>\n",
       "      <td>1</td>\n",
       "      <td>00:00:00.000</td>\n",
       "      <td>0</td>\n",
       "      <td>0</td>\n",
       "      <td>1</td>\n",
       "      <td>0.0</td>\n",
       "      <td>35</td>\n",
       "      <td>Starting XI</td>\n",
       "      <td>...</td>\n",
       "      <td>NaN</td>\n",
       "      <td>NaN</td>\n",
       "      <td>NaN</td>\n",
       "      <td>NaN</td>\n",
       "      <td>NaN</td>\n",
       "      <td>NaN</td>\n",
       "      <td>NaN</td>\n",
       "      <td>NaN</td>\n",
       "      <td>NaN</td>\n",
       "      <td>NaN</td>\n",
       "    </tr>\n",
       "    <tr>\n",
       "      <th>2</th>\n",
       "      <td>5ba53280-4efe-4482-b727-1328f6654d2a</td>\n",
       "      <td>3</td>\n",
       "      <td>1</td>\n",
       "      <td>00:00:00.000</td>\n",
       "      <td>0</td>\n",
       "      <td>0</td>\n",
       "      <td>1</td>\n",
       "      <td>0.0</td>\n",
       "      <td>18</td>\n",
       "      <td>Half Start</td>\n",
       "      <td>...</td>\n",
       "      <td>NaN</td>\n",
       "      <td>NaN</td>\n",
       "      <td>NaN</td>\n",
       "      <td>NaN</td>\n",
       "      <td>NaN</td>\n",
       "      <td>NaN</td>\n",
       "      <td>NaN</td>\n",
       "      <td>NaN</td>\n",
       "      <td>NaN</td>\n",
       "      <td>NaN</td>\n",
       "    </tr>\n",
       "  </tbody>\n",
       "</table>\n",
       "<p>3 rows × 116 columns</p>\n",
       "</div>"
      ],
      "text/plain": [
       "                                     id  index  period     timestamp  minute  \\\n",
       "0  2194e9dd-089b-44f8-a5c7-60436a00f0f9      1       1  00:00:00.000       0   \n",
       "1  1247d52e-3c53-4106-bcf9-36c14a0c352d      2       1  00:00:00.000       0   \n",
       "2  5ba53280-4efe-4482-b727-1328f6654d2a      3       1  00:00:00.000       0   \n",
       "\n",
       "   second  possession  duration  type.id    type.name  ...  \\\n",
       "0       0           1       0.0       35  Starting XI  ...   \n",
       "1       0           1       0.0       35  Starting XI  ...   \n",
       "2       0           1       0.0       18   Half Start  ...   \n",
       "\n",
       "   substitution.outcome.name substitution.replacement.id  \\\n",
       "0                        NaN                         NaN   \n",
       "1                        NaN                         NaN   \n",
       "2                        NaN                         NaN   \n",
       "\n",
       "   substitution.replacement.name foul_committed.card.id  \\\n",
       "0                            NaN                    NaN   \n",
       "1                            NaN                    NaN   \n",
       "2                            NaN                    NaN   \n",
       "\n",
       "   foul_committed.card.name foul_committed.advantage  foul_won.advantage  \\\n",
       "0                       NaN                      NaN                 NaN   \n",
       "1                       NaN                      NaN                 NaN   \n",
       "2                       NaN                      NaN                 NaN   \n",
       "\n",
       "  50_50.outcome.id 50_50.outcome.name shot.deflected  \n",
       "0              NaN                NaN            NaN  \n",
       "1              NaN                NaN            NaN  \n",
       "2              NaN                NaN            NaN  \n",
       "\n",
       "[3 rows x 116 columns]"
      ]
     },
     "execution_count": 5,
     "metadata": {},
     "output_type": "execute_result"
    }
   ],
   "source": [
    "events.head(3)"
   ]
  },
  {
   "cell_type": "code",
   "execution_count": 6,
   "id": "85d153e0-9120-46ff-9d19-9521a11e256a",
   "metadata": {},
   "outputs": [],
   "source": [
    "events.to_pickle(\"events.pkl\")"
   ]
  }
 ],
 "metadata": {
  "kernelspec": {
   "display_name": "Python 3 (ipykernel)",
   "language": "python",
   "name": "python3"
  },
  "language_info": {
   "codemirror_mode": {
    "name": "ipython",
    "version": 3
   },
   "file_extension": ".py",
   "mimetype": "text/x-python",
   "name": "python",
   "nbconvert_exporter": "python",
   "pygments_lexer": "ipython3",
   "version": "3.11.6"
  }
 },
 "nbformat": 4,
 "nbformat_minor": 5
}
