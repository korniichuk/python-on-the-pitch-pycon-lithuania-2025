{
 "cells": [
  {
   "cell_type": "code",
   "execution_count": 1,
   "id": "c18ca054-914c-452d-abaa-fa4974c9dddb",
   "metadata": {},
   "outputs": [],
   "source": [
    "import pandas as pd"
   ]
  },
  {
   "cell_type": "code",
   "execution_count": 2,
   "id": "90b98e2a-0d3e-4588-a498-fa08f7aea641",
   "metadata": {},
   "outputs": [],
   "source": [
    "events_de = pd.read_pickle(\"events_de.pkl\")"
   ]
  },
  {
   "cell_type": "markdown",
   "id": "6743278b-cbbb-42e3-9d76-4930618b8283",
   "metadata": {},
   "source": [
    "#### Team's formation (Germany)"
   ]
  },
  {
   "cell_type": "code",
   "execution_count": 3,
   "id": "29dea7ca-4529-490f-ba20-53e4e93e098e",
   "metadata": {
    "scrolled": true
   },
   "outputs": [
    {
     "data": {
      "text/html": [
       "<div>\n",
       "<style scoped>\n",
       "    .dataframe tbody tr th:only-of-type {\n",
       "        vertical-align: middle;\n",
       "    }\n",
       "\n",
       "    .dataframe tbody tr th {\n",
       "        vertical-align: top;\n",
       "    }\n",
       "\n",
       "    .dataframe thead th {\n",
       "        text-align: right;\n",
       "    }\n",
       "</style>\n",
       "<table border=\"1\" class=\"dataframe\">\n",
       "  <thead>\n",
       "    <tr style=\"text-align: right;\">\n",
       "      <th></th>\n",
       "      <th>id</th>\n",
       "      <th>index</th>\n",
       "      <th>period</th>\n",
       "      <th>timestamp</th>\n",
       "      <th>minute</th>\n",
       "      <th>second</th>\n",
       "      <th>possession</th>\n",
       "      <th>duration</th>\n",
       "      <th>type.id</th>\n",
       "      <th>type.name</th>\n",
       "      <th>...</th>\n",
       "      <th>substitution.outcome.name</th>\n",
       "      <th>substitution.replacement.id</th>\n",
       "      <th>substitution.replacement.name</th>\n",
       "      <th>foul_committed.card.id</th>\n",
       "      <th>foul_committed.card.name</th>\n",
       "      <th>foul_committed.advantage</th>\n",
       "      <th>foul_won.advantage</th>\n",
       "      <th>50_50.outcome.id</th>\n",
       "      <th>50_50.outcome.name</th>\n",
       "      <th>shot.deflected</th>\n",
       "    </tr>\n",
       "  </thead>\n",
       "  <tbody>\n",
       "  </tbody>\n",
       "</table>\n",
       "<p>0 rows × 116 columns</p>\n",
       "</div>"
      ],
      "text/plain": [
       "Empty DataFrame\n",
       "Columns: [id, index, period, timestamp, minute, second, possession, duration, type.id, type.name, possession_team.id, possession_team.name, play_pattern.id, play_pattern.name, team.id, team.name, tactics.formation, tactics.lineup, related_events, location, player.id, player.name, position.id, position.name, pass.recipient.id, pass.recipient.name, pass.length, pass.angle, pass.height.id, pass.height.name, pass.end_location, pass.body_part.id, pass.body_part.name, pass.type.id, pass.type.name, carry.end_location, pass.outcome.id, pass.outcome.name, ball_receipt.outcome.id, ball_receipt.outcome.name, under_pressure, duel.type.id, duel.type.name, clearance.aerial_won, clearance.head, clearance.body_part.id, clearance.body_part.name, dribble.nutmeg, dribble.overrun, dribble.outcome.id, dribble.outcome.name, pass.assisted_shot_id, pass.shot_assist, shot.statsbomb_xg, shot.end_location, shot.key_pass_id, shot.technique.id, shot.technique.name, shot.body_part.id, shot.body_part.name, shot.type.id, shot.type.name, shot.outcome.id, shot.outcome.name, shot.freeze_frame, goalkeeper.position.id, goalkeeper.position.name, goalkeeper.body_part.id, goalkeeper.body_part.name, goalkeeper.type.id, goalkeeper.type.name, goalkeeper.outcome.id, goalkeeper.outcome.name, goalkeeper.technique.id, goalkeeper.technique.name, pass.switch, pass.outswinging, pass.technique.id, pass.technique.name, counterpress, interception.outcome.id, interception.outcome.name, off_camera, ball_recovery.recovery_failure, pass.through_ball, clearance.right_foot, out, shot.first_time, goalkeeper.end_location, pass.cross, shot.one_on_one, duel.outcome.id, duel.outcome.name, pass.goal_assist, pass.aerial_won, clearance.left_foot, foul_won.defensive, injury_stoppage.in_chain, pass.deflected, pass.cut_back, ...]\n",
       "Index: []\n",
       "\n",
       "[0 rows x 116 columns]"
      ]
     },
     "execution_count": 3,
     "metadata": {},
     "output_type": "execute_result"
    }
   ],
   "source": [
    "events_de[events_de['type.id'] == 35]  # Starting XI"
   ]
  },
  {
   "cell_type": "code",
   "execution_count": 4,
   "id": "5ef6e5a2-6259-4352-8ad9-74bc16a8089b",
   "metadata": {},
   "outputs": [
    {
     "data": {
      "text/html": [
       "<div>\n",
       "<style scoped>\n",
       "    .dataframe tbody tr th:only-of-type {\n",
       "        vertical-align: middle;\n",
       "    }\n",
       "\n",
       "    .dataframe tbody tr th {\n",
       "        vertical-align: top;\n",
       "    }\n",
       "\n",
       "    .dataframe thead th {\n",
       "        text-align: right;\n",
       "    }\n",
       "</style>\n",
       "<table border=\"1\" class=\"dataframe\">\n",
       "  <thead>\n",
       "    <tr style=\"text-align: right;\">\n",
       "      <th></th>\n",
       "      <th>type.name</th>\n",
       "      <th>tactics.formation</th>\n",
       "      <th>tactics.lineup</th>\n",
       "    </tr>\n",
       "  </thead>\n",
       "  <tbody>\n",
       "    <tr>\n",
       "      <th>2384</th>\n",
       "      <td>Tactical Shift</td>\n",
       "      <td>442.0</td>\n",
       "      <td>[{'player': {'id': 5570, 'name': 'Manuel Neuer...</td>\n",
       "    </tr>\n",
       "    <tr>\n",
       "      <th>2757</th>\n",
       "      <td>Tactical Shift</td>\n",
       "      <td>352.0</td>\n",
       "      <td>[{'player': {'id': 5570, 'name': 'Manuel Neuer...</td>\n",
       "    </tr>\n",
       "    <tr>\n",
       "      <th>3492</th>\n",
       "      <td>Tactical Shift</td>\n",
       "      <td>343.0</td>\n",
       "      <td>[{'player': {'id': 5597, 'name': 'Keylor Navas...</td>\n",
       "    </tr>\n",
       "  </tbody>\n",
       "</table>\n",
       "</div>"
      ],
      "text/plain": [
       "           type.name  tactics.formation  \\\n",
       "2384  Tactical Shift              442.0   \n",
       "2757  Tactical Shift              352.0   \n",
       "3492  Tactical Shift              343.0   \n",
       "\n",
       "                                         tactics.lineup  \n",
       "2384  [{'player': {'id': 5570, 'name': 'Manuel Neuer...  \n",
       "2757  [{'player': {'id': 5570, 'name': 'Manuel Neuer...  \n",
       "3492  [{'player': {'id': 5597, 'name': 'Keylor Navas...  "
      ]
     },
     "execution_count": 4,
     "metadata": {},
     "output_type": "execute_result"
    }
   ],
   "source": [
    "tactical_shift = events_de[events_de['type.id'] == 36]  # Tactical Shift\n",
    "tactical_shift[[\"type.name\", \"tactics.formation\", \"tactics.lineup\"]]"
   ]
  },
  {
   "cell_type": "code",
   "execution_count": 5,
   "id": "4222df45-42e7-4f67-9e7e-c65b8fde55e4",
   "metadata": {},
   "outputs": [
    {
     "data": {
      "text/plain": [
       "[{'player': {'id': 5570, 'name': 'Manuel Neuer'},\n",
       "  'position': {'id': 1, 'name': 'Goalkeeper'},\n",
       "  'jersey_number': 1},\n",
       " {'player': {'id': 8507, 'name': 'Lukas Klostermann'},\n",
       "  'position': {'id': 2, 'name': 'Right Back'},\n",
       "  'jersey_number': 16},\n",
       " {'player': {'id': 6322, 'name': 'Niklas Süle'},\n",
       "  'position': {'id': 3, 'name': 'Right Center Back'},\n",
       "  'jersey_number': 15}]"
      ]
     },
     "execution_count": 5,
     "metadata": {},
     "output_type": "execute_result"
    }
   ],
   "source": [
    "tactical_shift[\"tactics.lineup\"].head(1).tolist()[0][0:3]"
   ]
  }
 ],
 "metadata": {
  "kernelspec": {
   "display_name": "Python 3 (ipykernel)",
   "language": "python",
   "name": "python3"
  },
  "language_info": {
   "codemirror_mode": {
    "name": "ipython",
    "version": 3
   },
   "file_extension": ".py",
   "mimetype": "text/x-python",
   "name": "python",
   "nbconvert_exporter": "python",
   "pygments_lexer": "ipython3",
   "version": "3.11.6"
  }
 },
 "nbformat": 4,
 "nbformat_minor": 5
}
