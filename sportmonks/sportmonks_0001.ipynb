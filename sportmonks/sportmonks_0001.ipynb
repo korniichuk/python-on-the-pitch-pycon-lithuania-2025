{
 "cells": [
  {
   "cell_type": "code",
   "execution_count": 1,
   "id": "b909c6bb-0b55-4f16-b535-dbc041b01f6f",
   "metadata": {},
   "outputs": [],
   "source": [
    "import pandas as pd\n",
    "import requests"
   ]
  },
  {
   "cell_type": "code",
   "execution_count": 2,
   "id": "d987ce7e-3b47-4c96-9c17-f6f6cf41e545",
   "metadata": {},
   "outputs": [],
   "source": [
    "API_TOKEN = \"tqz8BHX2O0tyVADTRuvyBaGmLVrZkwcwrhfbRjR9T5ZAQWXovTUeBytl4onZ\"\n",
    "params = {\"api_token\": API_TOKEN}"
   ]
  },
  {
   "cell_type": "markdown",
   "id": "3bde416c-37db-4522-886b-c5f44ff8c29e",
   "metadata": {},
   "source": [
    "#### Get leagues"
   ]
  },
  {
   "cell_type": "code",
   "execution_count": 3,
   "id": "b62463eb-fe1d-4ceb-8c24-c009cbac0601",
   "metadata": {},
   "outputs": [
    {
     "data": {
      "text/plain": [
       "4"
      ]
     },
     "execution_count": 3,
     "metadata": {},
     "output_type": "execute_result"
    }
   ],
   "source": [
    "leagues = requests.get(\"https://api.sportmonks.com/v3/football/leagues\", params=params).json()[\"data\"]\n",
    "len(leagues)"
   ]
  },
  {
   "cell_type": "code",
   "execution_count": 4,
   "id": "ff104ec6-f714-4e4b-913c-1d7d68f4bd7b",
   "metadata": {},
   "outputs": [],
   "source": [
    "country_ids = set()\n",
    "for league in leagues:\n",
    "    country_id = league[\"country_id\"]\n",
    "    country_ids.add(country_id)"
   ]
  },
  {
   "cell_type": "code",
   "execution_count": 5,
   "id": "2976ea9e-79cb-4e1d-b779-63db96c86ba1",
   "metadata": {},
   "outputs": [
    {
     "data": {
      "text/plain": [
       "{320, 1161}"
      ]
     },
     "execution_count": 5,
     "metadata": {},
     "output_type": "execute_result"
    }
   ],
   "source": [
    "country_ids"
   ]
  },
  {
   "cell_type": "markdown",
   "id": "9dba2cef-5c86-4ba0-b82f-a4ff7364d235",
   "metadata": {},
   "source": [
    "#### Get countries"
   ]
  },
  {
   "cell_type": "code",
   "execution_count": 6,
   "id": "7a6393b5-aac6-43a2-a149-9d4d00395731",
   "metadata": {},
   "outputs": [
    {
     "name": "stdout",
     "output_type": "stream",
     "text": [
      "Denmark\n",
      "Scotland\n"
     ]
    }
   ],
   "source": [
    "for country_id in country_ids:\n",
    "    name = requests.get(f\"https://api.sportmonks.com/v3/core/countries/{country_id}\", params=params).json()[\"data\"][\"name\"]\n",
    "    print(name)"
   ]
  }
 ],
 "metadata": {
  "kernelspec": {
   "display_name": "Python 3 (ipykernel)",
   "language": "python",
   "name": "python3"
  },
  "language_info": {
   "codemirror_mode": {
    "name": "ipython",
    "version": 3
   },
   "file_extension": ".py",
   "mimetype": "text/x-python",
   "name": "python",
   "nbconvert_exporter": "python",
   "pygments_lexer": "ipython3",
   "version": "3.11.6"
  }
 },
 "nbformat": 4,
 "nbformat_minor": 5
}
