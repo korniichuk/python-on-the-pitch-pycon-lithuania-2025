{
 "cells": [
  {
   "cell_type": "code",
   "execution_count": 1,
   "id": "d9403f8c-7912-4329-b1ef-9170f964a93a",
   "metadata": {},
   "outputs": [],
   "source": [
    "import pandas as pd\n",
    "import requests"
   ]
  },
  {
   "cell_type": "code",
   "execution_count": 2,
   "id": "a6923968-166f-4e6c-98a1-63ae62a7c58b",
   "metadata": {},
   "outputs": [],
   "source": [
    "API_TOKEN = \"tqz8BHX2O0tyVADTRuvyBaGmLVrZkwcwrhfbRjR9T5ZAQWXovTUeBytl4onZ\"\n",
    "params = {\"api_token\": API_TOKEN, \"include\": \"statistics.type;events;formations;timeline;lineups.details.type\"}"
   ]
  },
  {
   "cell_type": "code",
   "execution_count": 3,
   "id": "e0576263-cee0-4bb6-8428-9ef8af70a59b",
   "metadata": {},
   "outputs": [
    {
     "data": {
      "text/plain": [
       "Index(['id', 'sport_id', 'league_id', 'season_id', 'stage_id', 'group_id',\n",
       "       'aggregate_id', 'round_id', 'state_id', 'venue_id', 'name',\n",
       "       'starting_at', 'result_info', 'leg', 'details', 'length', 'placeholder',\n",
       "       'has_odds', 'has_premium_odds', 'starting_at_timestamp', 'statistics',\n",
       "       'events', 'formations', 'timeline', 'lineups'],\n",
       "      dtype='object')"
      ]
     },
     "execution_count": 3,
     "metadata": {},
     "output_type": "execute_result"
    }
   ],
   "source": [
    "data = requests.get(\"https://api.sportmonks.com/v3/football/fixtures/19146817\", params=params).json()[\"data\"]\n",
    "match = pd.json_normalize(data)\n",
    "match.columns"
   ]
  },
  {
   "cell_type": "code",
   "execution_count": 4,
   "id": "d90d2606-fa69-486c-9a82-830f916e1b90",
   "metadata": {},
   "outputs": [],
   "source": [
    "statistics = pd.json_normalize(match.statistics[0])"
   ]
  },
  {
   "cell_type": "code",
   "execution_count": 5,
   "id": "dbf30800-4385-4e48-89f3-432354cf79c5",
   "metadata": {},
   "outputs": [
    {
     "data": {
      "text/html": [
       "<div>\n",
       "<style scoped>\n",
       "    .dataframe tbody tr th:only-of-type {\n",
       "        vertical-align: middle;\n",
       "    }\n",
       "\n",
       "    .dataframe tbody tr th {\n",
       "        vertical-align: top;\n",
       "    }\n",
       "\n",
       "    .dataframe thead th {\n",
       "        text-align: right;\n",
       "    }\n",
       "</style>\n",
       "<table border=\"1\" class=\"dataframe\">\n",
       "  <thead>\n",
       "    <tr style=\"text-align: right;\">\n",
       "      <th></th>\n",
       "      <th>id</th>\n",
       "      <th>fixture_id</th>\n",
       "      <th>type_id</th>\n",
       "      <th>participant_id</th>\n",
       "      <th>location</th>\n",
       "      <th>data.value</th>\n",
       "      <th>type.id</th>\n",
       "      <th>type.name</th>\n",
       "      <th>type.code</th>\n",
       "      <th>type.developer_name</th>\n",
       "      <th>type.model_type</th>\n",
       "      <th>type.stat_group</th>\n",
       "    </tr>\n",
       "  </thead>\n",
       "  <tbody>\n",
       "    <tr>\n",
       "      <th>0</th>\n",
       "      <td>207022998</td>\n",
       "      <td>19146817</td>\n",
       "      <td>34</td>\n",
       "      <td>273</td>\n",
       "      <td>home</td>\n",
       "      <td>9</td>\n",
       "      <td>34</td>\n",
       "      <td>Corners</td>\n",
       "      <td>corners</td>\n",
       "      <td>CORNERS</td>\n",
       "      <td>statistic</td>\n",
       "      <td>offensive</td>\n",
       "    </tr>\n",
       "    <tr>\n",
       "      <th>1</th>\n",
       "      <td>207023003</td>\n",
       "      <td>19146817</td>\n",
       "      <td>84</td>\n",
       "      <td>273</td>\n",
       "      <td>home</td>\n",
       "      <td>2</td>\n",
       "      <td>84</td>\n",
       "      <td>Yellowcards</td>\n",
       "      <td>yellowcards</td>\n",
       "      <td>YELLOWCARDS</td>\n",
       "      <td>statistic</td>\n",
       "      <td>overall</td>\n",
       "    </tr>\n",
       "    <tr>\n",
       "      <th>2</th>\n",
       "      <td>207023280</td>\n",
       "      <td>19146817</td>\n",
       "      <td>1605</td>\n",
       "      <td>273</td>\n",
       "      <td>home</td>\n",
       "      <td>33</td>\n",
       "      <td>1605</td>\n",
       "      <td>Successful Dribbles Percentage</td>\n",
       "      <td>successful-dribbles-percentage</td>\n",
       "      <td>SUCCESSFUL_DRIBBLES_PERCENTAGE</td>\n",
       "      <td>statistic</td>\n",
       "      <td>offensive</td>\n",
       "    </tr>\n",
       "    <tr>\n",
       "      <th>3</th>\n",
       "      <td>207023287</td>\n",
       "      <td>19146817</td>\n",
       "      <td>1605</td>\n",
       "      <td>246</td>\n",
       "      <td>away</td>\n",
       "      <td>38</td>\n",
       "      <td>1605</td>\n",
       "      <td>Successful Dribbles Percentage</td>\n",
       "      <td>successful-dribbles-percentage</td>\n",
       "      <td>SUCCESSFUL_DRIBBLES_PERCENTAGE</td>\n",
       "      <td>statistic</td>\n",
       "      <td>offensive</td>\n",
       "    </tr>\n",
       "    <tr>\n",
       "      <th>4</th>\n",
       "      <td>207023271</td>\n",
       "      <td>19146817</td>\n",
       "      <td>45</td>\n",
       "      <td>273</td>\n",
       "      <td>home</td>\n",
       "      <td>66</td>\n",
       "      <td>45</td>\n",
       "      <td>Ball Possession %</td>\n",
       "      <td>ball-possession</td>\n",
       "      <td>BALL_POSSESSION</td>\n",
       "      <td>statistic</td>\n",
       "      <td>overall</td>\n",
       "    </tr>\n",
       "  </tbody>\n",
       "</table>\n",
       "</div>"
      ],
      "text/plain": [
       "          id  fixture_id  type_id  participant_id location  data.value  \\\n",
       "0  207022998    19146817       34             273     home           9   \n",
       "1  207023003    19146817       84             273     home           2   \n",
       "2  207023280    19146817     1605             273     home          33   \n",
       "3  207023287    19146817     1605             246     away          38   \n",
       "4  207023271    19146817       45             273     home          66   \n",
       "\n",
       "   type.id                       type.name                       type.code  \\\n",
       "0       34                         Corners                         corners   \n",
       "1       84                     Yellowcards                     yellowcards   \n",
       "2     1605  Successful Dribbles Percentage  successful-dribbles-percentage   \n",
       "3     1605  Successful Dribbles Percentage  successful-dribbles-percentage   \n",
       "4       45               Ball Possession %                 ball-possession   \n",
       "\n",
       "              type.developer_name type.model_type type.stat_group  \n",
       "0                         CORNERS       statistic       offensive  \n",
       "1                     YELLOWCARDS       statistic         overall  \n",
       "2  SUCCESSFUL_DRIBBLES_PERCENTAGE       statistic       offensive  \n",
       "3  SUCCESSFUL_DRIBBLES_PERCENTAGE       statistic       offensive  \n",
       "4                 BALL_POSSESSION       statistic         overall  "
      ]
     },
     "execution_count": 5,
     "metadata": {},
     "output_type": "execute_result"
    }
   ],
   "source": [
    "statistics.head(5)"
   ]
  }
 ],
 "metadata": {
  "kernelspec": {
   "display_name": "Python 3 (ipykernel)",
   "language": "python",
   "name": "python3"
  },
  "language_info": {
   "codemirror_mode": {
    "name": "ipython",
    "version": 3
   },
   "file_extension": ".py",
   "mimetype": "text/x-python",
   "name": "python",
   "nbconvert_exporter": "python",
   "pygments_lexer": "ipython3",
   "version": "3.11.6"
  }
 },
 "nbformat": 4,
 "nbformat_minor": 5
}
