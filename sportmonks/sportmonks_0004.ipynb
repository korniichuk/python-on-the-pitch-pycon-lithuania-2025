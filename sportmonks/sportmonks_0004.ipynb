{
 "cells": [
  {
   "cell_type": "code",
   "execution_count": 1,
   "id": "80f59be7-c125-405e-b1fe-59723584afcf",
   "metadata": {},
   "outputs": [],
   "source": [
    "import pandas as pd\n",
    "import requests"
   ]
  },
  {
   "cell_type": "code",
   "execution_count": 2,
   "id": "c5fcae9c-be94-46df-a76c-d02f610eef06",
   "metadata": {},
   "outputs": [],
   "source": [
    "API_TOKEN = \"tqz8BHX2O0tyVADTRuvyBaGmLVrZkwcwrhfbRjR9T5ZAQWXovTUeBytl4onZ\"\n",
    "params = {\"api_token\": API_TOKEN}"
   ]
  },
  {
   "cell_type": "markdown",
   "id": "b3f51381-6763-4961-a417-395424ca4e40",
   "metadata": {},
   "source": [
    "#### Aberdeen vs Ross County (`19146817`)"
   ]
  },
  {
   "cell_type": "code",
   "execution_count": 3,
   "id": "1f3ff39f-68c4-492a-a09b-44f3d3c56e4a",
   "metadata": {},
   "outputs": [],
   "source": [
    "data = requests.get(\"https://api.sportmonks.com/v3/football/fixtures/19146817\", params=params).json()[\"data\"]"
   ]
  },
  {
   "cell_type": "code",
   "execution_count": 4,
   "id": "feb7d4b0-0b9c-4fd8-bdd4-80f6085227f2",
   "metadata": {},
   "outputs": [],
   "source": [
    "match = pd.json_normalize(data)"
   ]
  },
  {
   "cell_type": "code",
   "execution_count": 5,
   "id": "931619a3-0a86-4b5f-a275-1ad8b1b44fa7",
   "metadata": {},
   "outputs": [
    {
     "data": {
      "text/plain": [
       "Index(['id', 'sport_id', 'league_id', 'season_id', 'stage_id', 'group_id',\n",
       "       'aggregate_id', 'round_id', 'state_id', 'venue_id', 'name',\n",
       "       'starting_at', 'result_info', 'leg', 'details', 'length', 'placeholder',\n",
       "       'has_odds', 'has_premium_odds', 'starting_at_timestamp'],\n",
       "      dtype='object')"
      ]
     },
     "execution_count": 5,
     "metadata": {},
     "output_type": "execute_result"
    }
   ],
   "source": [
    "match.columns"
   ]
  }
 ],
 "metadata": {
  "kernelspec": {
   "display_name": "Python 3 (ipykernel)",
   "language": "python",
   "name": "python3"
  },
  "language_info": {
   "codemirror_mode": {
    "name": "ipython",
    "version": 3
   },
   "file_extension": ".py",
   "mimetype": "text/x-python",
   "name": "python",
   "nbconvert_exporter": "python",
   "pygments_lexer": "ipython3",
   "version": "3.11.6"
  }
 },
 "nbformat": 4,
 "nbformat_minor": 5
}
