{
 "cells": [
  {
   "cell_type": "code",
   "execution_count": 1,
   "id": "d9403f8c-7912-4329-b1ef-9170f964a93a",
   "metadata": {},
   "outputs": [],
   "source": [
    "import pandas as pd\n",
    "import requests"
   ]
  },
  {
   "cell_type": "code",
   "execution_count": 2,
   "id": "a6923968-166f-4e6c-98a1-63ae62a7c58b",
   "metadata": {},
   "outputs": [],
   "source": [
    "API_TOKEN = \"tqz8BHX2O0tyVADTRuvyBaGmLVrZkwcwrhfbRjR9T5ZAQWXovTUeBytl4onZ\"\n",
    "params = {\"api_token\": API_TOKEN, \"include\": \"formations\"}"
   ]
  },
  {
   "cell_type": "code",
   "execution_count": 3,
   "id": "e0576263-cee0-4bb6-8428-9ef8af70a59b",
   "metadata": {},
   "outputs": [],
   "source": [
    "data = requests.get(\"https://api.sportmonks.com/v3/football/fixtures/19146817\", params=params).json()[\"data\"]\n",
    "match = pd.json_normalize(data)"
   ]
  },
  {
   "cell_type": "code",
   "execution_count": 4,
   "id": "d90d2606-fa69-486c-9a82-830f916e1b90",
   "metadata": {},
   "outputs": [],
   "source": [
    "formations = pd.json_normalize(match.formations[0])"
   ]
  },
  {
   "cell_type": "code",
   "execution_count": 5,
   "id": "dbf30800-4385-4e48-89f3-432354cf79c5",
   "metadata": {},
   "outputs": [
    {
     "data": {
      "text/html": [
       "<div>\n",
       "<style scoped>\n",
       "    .dataframe tbody tr th:only-of-type {\n",
       "        vertical-align: middle;\n",
       "    }\n",
       "\n",
       "    .dataframe tbody tr th {\n",
       "        vertical-align: top;\n",
       "    }\n",
       "\n",
       "    .dataframe thead th {\n",
       "        text-align: right;\n",
       "    }\n",
       "</style>\n",
       "<table border=\"1\" class=\"dataframe\">\n",
       "  <thead>\n",
       "    <tr style=\"text-align: right;\">\n",
       "      <th></th>\n",
       "      <th>id</th>\n",
       "      <th>fixture_id</th>\n",
       "      <th>participant_id</th>\n",
       "      <th>formation</th>\n",
       "      <th>location</th>\n",
       "    </tr>\n",
       "  </thead>\n",
       "  <tbody>\n",
       "    <tr>\n",
       "      <th>0</th>\n",
       "      <td>8387600</td>\n",
       "      <td>19146817</td>\n",
       "      <td>246</td>\n",
       "      <td>3-5-1-1</td>\n",
       "      <td>away</td>\n",
       "    </tr>\n",
       "    <tr>\n",
       "      <th>1</th>\n",
       "      <td>8387601</td>\n",
       "      <td>19146817</td>\n",
       "      <td>273</td>\n",
       "      <td>4-2-3-1</td>\n",
       "      <td>home</td>\n",
       "    </tr>\n",
       "  </tbody>\n",
       "</table>\n",
       "</div>"
      ],
      "text/plain": [
       "        id  fixture_id  participant_id formation location\n",
       "0  8387600    19146817             246   3-5-1-1     away\n",
       "1  8387601    19146817             273   4-2-3-1     home"
      ]
     },
     "execution_count": 5,
     "metadata": {},
     "output_type": "execute_result"
    }
   ],
   "source": [
    "formations.head(5)"
   ]
  }
 ],
 "metadata": {
  "kernelspec": {
   "display_name": "Python 3 (ipykernel)",
   "language": "python",
   "name": "python3"
  },
  "language_info": {
   "codemirror_mode": {
    "name": "ipython",
    "version": 3
   },
   "file_extension": ".py",
   "mimetype": "text/x-python",
   "name": "python",
   "nbconvert_exporter": "python",
   "pygments_lexer": "ipython3",
   "version": "3.11.6"
  }
 },
 "nbformat": 4,
 "nbformat_minor": 5
}
