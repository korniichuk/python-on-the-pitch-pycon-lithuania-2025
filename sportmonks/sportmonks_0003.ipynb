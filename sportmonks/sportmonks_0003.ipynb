{
 "cells": [
  {
   "cell_type": "code",
   "execution_count": 1,
   "id": "3d3f3189-47d5-453b-b281-e4060f612665",
   "metadata": {},
   "outputs": [],
   "source": [
    "import pandas as pd\n",
    "import requests"
   ]
  },
  {
   "cell_type": "code",
   "execution_count": 2,
   "id": "ffdcf1b9-43b9-49a3-b2f4-e9f920e68d70",
   "metadata": {},
   "outputs": [],
   "source": [
    "API_TOKEN = \"tqz8BHX2O0tyVADTRuvyBaGmLVrZkwcwrhfbRjR9T5ZAQWXovTUeBytl4onZ\""
   ]
  },
  {
   "cell_type": "markdown",
   "id": "25134c5f-b119-4949-9d3f-5be981c11954",
   "metadata": {},
   "source": [
    "#### Fixtures (matches) by date range (max 100 days)"
   ]
  },
  {
   "cell_type": "code",
   "execution_count": 3,
   "id": "d1bbf578-e22f-41e4-957c-c7f5153ecef7",
   "metadata": {},
   "outputs": [],
   "source": [
    "start_date = \"2025-01-01\"\n",
    "end_date = \"2025-04-01\"\n",
    "\n",
    "data = []\n",
    "page = 1\n",
    "has_more = True\n",
    "\n",
    "while has_more:\n",
    "    params = {\"api_token\": API_TOKEN, \"per_page\": 50, \"page\": page}\n",
    "    r = requests.get(f\"https://api.sportmonks.com/v3/football/fixtures/between/{start_date}/{end_date}\", params=params).json()\n",
    "    data.extend(r[\"data\"])\n",
    "    has_more = r[\"pagination\"][\"has_more\"]\n",
    "    page += 1"
   ]
  },
  {
   "cell_type": "code",
   "execution_count": 4,
   "id": "8ce92668-9475-4f01-a81b-c2c779d812c1",
   "metadata": {},
   "outputs": [
    {
     "data": {
      "text/html": [
       "<div>\n",
       "<style scoped>\n",
       "    .dataframe tbody tr th:only-of-type {\n",
       "        vertical-align: middle;\n",
       "    }\n",
       "\n",
       "    .dataframe tbody tr th {\n",
       "        vertical-align: top;\n",
       "    }\n",
       "\n",
       "    .dataframe thead th {\n",
       "        text-align: right;\n",
       "    }\n",
       "</style>\n",
       "<table border=\"1\" class=\"dataframe\">\n",
       "  <thead>\n",
       "    <tr style=\"text-align: right;\">\n",
       "      <th></th>\n",
       "      <th>id</th>\n",
       "      <th>sport_id</th>\n",
       "      <th>league_id</th>\n",
       "      <th>season_id</th>\n",
       "      <th>stage_id</th>\n",
       "      <th>group_id</th>\n",
       "      <th>aggregate_id</th>\n",
       "      <th>round_id</th>\n",
       "      <th>state_id</th>\n",
       "      <th>venue_id</th>\n",
       "      <th>name</th>\n",
       "      <th>starting_at</th>\n",
       "      <th>result_info</th>\n",
       "      <th>leg</th>\n",
       "      <th>details</th>\n",
       "      <th>length</th>\n",
       "      <th>placeholder</th>\n",
       "      <th>has_odds</th>\n",
       "      <th>has_premium_odds</th>\n",
       "      <th>starting_at_timestamp</th>\n",
       "    </tr>\n",
       "  </thead>\n",
       "  <tbody>\n",
       "    <tr>\n",
       "      <th>0</th>\n",
       "      <td>19146817</td>\n",
       "      <td>1</td>\n",
       "      <td>501</td>\n",
       "      <td>23690</td>\n",
       "      <td>77471570</td>\n",
       "      <td>None</td>\n",
       "      <td>None</td>\n",
       "      <td>340593</td>\n",
       "      <td>5</td>\n",
       "      <td>8928</td>\n",
       "      <td>Aberdeen vs Ross County</td>\n",
       "      <td>2025-01-02 15:00:00</td>\n",
       "      <td>Ross County won after full-time.</td>\n",
       "      <td>1/1</td>\n",
       "      <td>None</td>\n",
       "      <td>90</td>\n",
       "      <td>False</td>\n",
       "      <td>True</td>\n",
       "      <td>True</td>\n",
       "      <td>1735830000</td>\n",
       "    </tr>\n",
       "    <tr>\n",
       "      <th>1</th>\n",
       "      <td>19146818</td>\n",
       "      <td>1</td>\n",
       "      <td>501</td>\n",
       "      <td>23690</td>\n",
       "      <td>77471570</td>\n",
       "      <td>None</td>\n",
       "      <td>None</td>\n",
       "      <td>340593</td>\n",
       "      <td>5</td>\n",
       "      <td>336296</td>\n",
       "      <td>Hearts vs Motherwell</td>\n",
       "      <td>2025-01-02 15:00:00</td>\n",
       "      <td>Hearts won after full-time.</td>\n",
       "      <td>1/1</td>\n",
       "      <td>None</td>\n",
       "      <td>90</td>\n",
       "      <td>False</td>\n",
       "      <td>True</td>\n",
       "      <td>True</td>\n",
       "      <td>1735830000</td>\n",
       "    </tr>\n",
       "  </tbody>\n",
       "</table>\n",
       "</div>"
      ],
      "text/plain": [
       "         id  sport_id  league_id  season_id  stage_id group_id aggregate_id  \\\n",
       "0  19146817         1        501      23690  77471570     None         None   \n",
       "1  19146818         1        501      23690  77471570     None         None   \n",
       "\n",
       "   round_id  state_id  venue_id                     name          starting_at  \\\n",
       "0    340593         5      8928  Aberdeen vs Ross County  2025-01-02 15:00:00   \n",
       "1    340593         5    336296     Hearts vs Motherwell  2025-01-02 15:00:00   \n",
       "\n",
       "                        result_info  leg details  length  placeholder  \\\n",
       "0  Ross County won after full-time.  1/1    None      90        False   \n",
       "1       Hearts won after full-time.  1/1    None      90        False   \n",
       "\n",
       "   has_odds  has_premium_odds  starting_at_timestamp  \n",
       "0      True              True             1735830000  \n",
       "1      True              True             1735830000  "
      ]
     },
     "execution_count": 4,
     "metadata": {},
     "output_type": "execute_result"
    }
   ],
   "source": [
    "matches = pd.json_normalize(data)\n",
    "matches.head(2)"
   ]
  }
 ],
 "metadata": {
  "kernelspec": {
   "display_name": "Python 3 (ipykernel)",
   "language": "python",
   "name": "python3"
  },
  "language_info": {
   "codemirror_mode": {
    "name": "ipython",
    "version": 3
   },
   "file_extension": ".py",
   "mimetype": "text/x-python",
   "name": "python",
   "nbconvert_exporter": "python",
   "pygments_lexer": "ipython3",
   "version": "3.11.6"
  }
 },
 "nbformat": 4,
 "nbformat_minor": 5
}
