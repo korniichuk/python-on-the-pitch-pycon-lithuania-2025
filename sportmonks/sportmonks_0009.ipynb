{
 "cells": [
  {
   "cell_type": "code",
   "execution_count": 1,
   "id": "d9403f8c-7912-4329-b1ef-9170f964a93a",
   "metadata": {},
   "outputs": [],
   "source": [
    "import pandas as pd\n",
    "import requests"
   ]
  },
  {
   "cell_type": "code",
   "execution_count": 2,
   "id": "a6923968-166f-4e6c-98a1-63ae62a7c58b",
   "metadata": {},
   "outputs": [],
   "source": [
    "API_TOKEN = \"tqz8BHX2O0tyVADTRuvyBaGmLVrZkwcwrhfbRjR9T5ZAQWXovTUeBytl4onZ\"\n",
    "params = {\"api_token\": API_TOKEN, \"include\": \"lineups.details.type\"}"
   ]
  },
  {
   "cell_type": "code",
   "execution_count": 3,
   "id": "e0576263-cee0-4bb6-8428-9ef8af70a59b",
   "metadata": {},
   "outputs": [],
   "source": [
    "data = requests.get(\"https://api.sportmonks.com/v3/football/fixtures/19146817\", params=params).json()[\"data\"]\n",
    "match = pd.json_normalize(data)"
   ]
  },
  {
   "cell_type": "code",
   "execution_count": 4,
   "id": "d90d2606-fa69-486c-9a82-830f916e1b90",
   "metadata": {},
   "outputs": [
    {
     "data": {
      "text/plain": [
       "40"
      ]
     },
     "execution_count": 4,
     "metadata": {},
     "output_type": "execute_result"
    }
   ],
   "source": [
    "lineups = pd.json_normalize(match.lineups[0])\n",
    "len(lineups)"
   ]
  },
  {
   "cell_type": "code",
   "execution_count": 5,
   "id": "dbf30800-4385-4e48-89f3-432354cf79c5",
   "metadata": {},
   "outputs": [
    {
     "data": {
      "text/html": [
       "<div>\n",
       "<style scoped>\n",
       "    .dataframe tbody tr th:only-of-type {\n",
       "        vertical-align: middle;\n",
       "    }\n",
       "\n",
       "    .dataframe tbody tr th {\n",
       "        vertical-align: top;\n",
       "    }\n",
       "\n",
       "    .dataframe thead th {\n",
       "        text-align: right;\n",
       "    }\n",
       "</style>\n",
       "<table border=\"1\" class=\"dataframe\">\n",
       "  <thead>\n",
       "    <tr style=\"text-align: right;\">\n",
       "      <th></th>\n",
       "      <th>id</th>\n",
       "      <th>sport_id</th>\n",
       "      <th>fixture_id</th>\n",
       "      <th>player_id</th>\n",
       "      <th>team_id</th>\n",
       "      <th>position_id</th>\n",
       "      <th>formation_field</th>\n",
       "      <th>type_id</th>\n",
       "      <th>formation_position</th>\n",
       "      <th>player_name</th>\n",
       "      <th>jersey_number</th>\n",
       "      <th>details</th>\n",
       "    </tr>\n",
       "  </thead>\n",
       "  <tbody>\n",
       "    <tr>\n",
       "      <th>0</th>\n",
       "      <td>14597927439</td>\n",
       "      <td>1</td>\n",
       "      <td>19146817</td>\n",
       "      <td>123690</td>\n",
       "      <td>246</td>\n",
       "      <td>26</td>\n",
       "      <td>None</td>\n",
       "      <td>11</td>\n",
       "      <td>5.0</td>\n",
       "      <td>James Brown</td>\n",
       "      <td>2</td>\n",
       "      <td>[{'id': 1362633034, 'fixture_id': 19146817, 'p...</td>\n",
       "    </tr>\n",
       "    <tr>\n",
       "      <th>1</th>\n",
       "      <td>14597927412</td>\n",
       "      <td>1</td>\n",
       "      <td>19146817</td>\n",
       "      <td>580993</td>\n",
       "      <td>246</td>\n",
       "      <td>25</td>\n",
       "      <td>None</td>\n",
       "      <td>11</td>\n",
       "      <td>4.0</td>\n",
       "      <td>Ryan David Leak</td>\n",
       "      <td>3</td>\n",
       "      <td>[{'id': 1362630528, 'fixture_id': 19146817, 'p...</td>\n",
       "    </tr>\n",
       "    <tr>\n",
       "      <th>2</th>\n",
       "      <td>14597927435</td>\n",
       "      <td>1</td>\n",
       "      <td>19146817</td>\n",
       "      <td>9654</td>\n",
       "      <td>246</td>\n",
       "      <td>25</td>\n",
       "      <td>None</td>\n",
       "      <td>11</td>\n",
       "      <td>2.0</td>\n",
       "      <td>Akil Wright</td>\n",
       "      <td>4</td>\n",
       "      <td>[{'id': 1362630743, 'fixture_id': 19146817, 'p...</td>\n",
       "    </tr>\n",
       "    <tr>\n",
       "      <th>3</th>\n",
       "      <td>14597927126</td>\n",
       "      <td>1</td>\n",
       "      <td>19146817</td>\n",
       "      <td>174741</td>\n",
       "      <td>246</td>\n",
       "      <td>26</td>\n",
       "      <td>None</td>\n",
       "      <td>12</td>\n",
       "      <td>NaN</td>\n",
       "      <td>Scott Allardice</td>\n",
       "      <td>6</td>\n",
       "      <td>[{'id': 1362737010, 'fixture_id': 19146817, 'p...</td>\n",
       "    </tr>\n",
       "    <tr>\n",
       "      <th>4</th>\n",
       "      <td>14597927130</td>\n",
       "      <td>1</td>\n",
       "      <td>19146817</td>\n",
       "      <td>34422813</td>\n",
       "      <td>246</td>\n",
       "      <td>26</td>\n",
       "      <td>None</td>\n",
       "      <td>12</td>\n",
       "      <td>NaN</td>\n",
       "      <td>Victor Loturi</td>\n",
       "      <td>7</td>\n",
       "      <td>[]</td>\n",
       "    </tr>\n",
       "  </tbody>\n",
       "</table>\n",
       "</div>"
      ],
      "text/plain": [
       "            id  sport_id  fixture_id  player_id  team_id  position_id  \\\n",
       "0  14597927439         1    19146817     123690      246           26   \n",
       "1  14597927412         1    19146817     580993      246           25   \n",
       "2  14597927435         1    19146817       9654      246           25   \n",
       "3  14597927126         1    19146817     174741      246           26   \n",
       "4  14597927130         1    19146817   34422813      246           26   \n",
       "\n",
       "  formation_field  type_id  formation_position      player_name  \\\n",
       "0            None       11                 5.0      James Brown   \n",
       "1            None       11                 4.0  Ryan David Leak   \n",
       "2            None       11                 2.0      Akil Wright   \n",
       "3            None       12                 NaN  Scott Allardice   \n",
       "4            None       12                 NaN    Victor Loturi   \n",
       "\n",
       "   jersey_number                                            details  \n",
       "0              2  [{'id': 1362633034, 'fixture_id': 19146817, 'p...  \n",
       "1              3  [{'id': 1362630528, 'fixture_id': 19146817, 'p...  \n",
       "2              4  [{'id': 1362630743, 'fixture_id': 19146817, 'p...  \n",
       "3              6  [{'id': 1362737010, 'fixture_id': 19146817, 'p...  \n",
       "4              7                                                 []  "
      ]
     },
     "execution_count": 5,
     "metadata": {},
     "output_type": "execute_result"
    }
   ],
   "source": [
    "lineups.head(5)"
   ]
  }
 ],
 "metadata": {
  "kernelspec": {
   "display_name": "Python 3 (ipykernel)",
   "language": "python",
   "name": "python3"
  },
  "language_info": {
   "codemirror_mode": {
    "name": "ipython",
    "version": 3
   },
   "file_extension": ".py",
   "mimetype": "text/x-python",
   "name": "python",
   "nbconvert_exporter": "python",
   "pygments_lexer": "ipython3",
   "version": "3.11.6"
  }
 },
 "nbformat": 4,
 "nbformat_minor": 5
}
